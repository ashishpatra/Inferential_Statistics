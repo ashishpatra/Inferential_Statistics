{
 "cells": [
  {
   "cell_type": "markdown",
   "metadata": {},
   "source": [
    "# Inferential Statistics\n",
    "## Author : Ashish Kumar Patra"
   ]
  },
  {
   "cell_type": "code",
   "execution_count": 1,
   "metadata": {},
   "outputs": [],
   "source": [
    "# Filtering out the warnings and importing the required libraries\n",
    "\n",
    "import warnings\n",
    "warnings.filterwarnings('ignore')\n",
    "import numpy as np\n",
    "import pandas as pd\n",
    "import seaborn as sns\n",
    "import matplotlib.pyplot as plt\n",
    "from scipy import stats\n",
    "from sklearn.preprocessing import scale\n",
    "import researchpy as rp\n",
    "from statsmodels.stats.multicomp import MultiComparison\n",
    "from statsmodels.formula.api import ols\n",
    "import statsmodels.api as sm\n",
    "from scipy.stats import chi2_contingency"
   ]
  },
  {
   "cell_type": "code",
   "execution_count": 2,
   "metadata": {},
   "outputs": [],
   "source": [
    "# data = sns.load_dataset(\"tips\")\n",
    "# data.to_csv(r'C:\\Users\\ASHISH\\Desktop\\DataSets\\tips_data.csv', index=False, header=True)"
   ]
  },
  {
   "cell_type": "markdown",
   "metadata": {},
   "source": [
    "### About the Dataset (tips_data.csv)\n",
    "Attribute Information:\n",
    "\n",
    "The dataset are related to different tips amount of a restaurant in different time (lunch and dinner) with respect to different days of the week and either the person is smoker or non-smoker. \n",
    "\n",
    "    1 - total_bill\n",
    "    2 - tip\n",
    "    3 - sex\n",
    "    4 - smoker\n",
    "    5 - day\n",
    "    6 - time\n",
    "    7 - size"
   ]
  },
  {
   "cell_type": "markdown",
   "metadata": {},
   "source": [
    "## 1. Load the Dataset:"
   ]
  },
  {
   "cell_type": "code",
   "execution_count": 3,
   "metadata": {},
   "outputs": [
    {
     "data": {
      "text/html": [
       "<div>\n",
       "<style scoped>\n",
       "    .dataframe tbody tr th:only-of-type {\n",
       "        vertical-align: middle;\n",
       "    }\n",
       "\n",
       "    .dataframe tbody tr th {\n",
       "        vertical-align: top;\n",
       "    }\n",
       "\n",
       "    .dataframe thead th {\n",
       "        text-align: right;\n",
       "    }\n",
       "</style>\n",
       "<table border=\"1\" class=\"dataframe\">\n",
       "  <thead>\n",
       "    <tr style=\"text-align: right;\">\n",
       "      <th></th>\n",
       "      <th>total_bill</th>\n",
       "      <th>tip</th>\n",
       "      <th>sex</th>\n",
       "      <th>smoker</th>\n",
       "      <th>day</th>\n",
       "      <th>time</th>\n",
       "      <th>size</th>\n",
       "    </tr>\n",
       "  </thead>\n",
       "  <tbody>\n",
       "    <tr>\n",
       "      <th>0</th>\n",
       "      <td>16.99</td>\n",
       "      <td>1.01</td>\n",
       "      <td>Female</td>\n",
       "      <td>No</td>\n",
       "      <td>Sun</td>\n",
       "      <td>Dinner</td>\n",
       "      <td>2</td>\n",
       "    </tr>\n",
       "    <tr>\n",
       "      <th>1</th>\n",
       "      <td>10.34</td>\n",
       "      <td>1.66</td>\n",
       "      <td>Male</td>\n",
       "      <td>No</td>\n",
       "      <td>Sun</td>\n",
       "      <td>Dinner</td>\n",
       "      <td>3</td>\n",
       "    </tr>\n",
       "    <tr>\n",
       "      <th>2</th>\n",
       "      <td>21.01</td>\n",
       "      <td>3.50</td>\n",
       "      <td>Male</td>\n",
       "      <td>No</td>\n",
       "      <td>Sun</td>\n",
       "      <td>Dinner</td>\n",
       "      <td>3</td>\n",
       "    </tr>\n",
       "    <tr>\n",
       "      <th>3</th>\n",
       "      <td>23.68</td>\n",
       "      <td>3.31</td>\n",
       "      <td>Male</td>\n",
       "      <td>No</td>\n",
       "      <td>Sun</td>\n",
       "      <td>Dinner</td>\n",
       "      <td>2</td>\n",
       "    </tr>\n",
       "    <tr>\n",
       "      <th>4</th>\n",
       "      <td>24.59</td>\n",
       "      <td>3.61</td>\n",
       "      <td>Female</td>\n",
       "      <td>No</td>\n",
       "      <td>Sun</td>\n",
       "      <td>Dinner</td>\n",
       "      <td>4</td>\n",
       "    </tr>\n",
       "    <tr>\n",
       "      <th>...</th>\n",
       "      <td>...</td>\n",
       "      <td>...</td>\n",
       "      <td>...</td>\n",
       "      <td>...</td>\n",
       "      <td>...</td>\n",
       "      <td>...</td>\n",
       "      <td>...</td>\n",
       "    </tr>\n",
       "    <tr>\n",
       "      <th>239</th>\n",
       "      <td>29.03</td>\n",
       "      <td>5.92</td>\n",
       "      <td>Male</td>\n",
       "      <td>No</td>\n",
       "      <td>Sat</td>\n",
       "      <td>Dinner</td>\n",
       "      <td>3</td>\n",
       "    </tr>\n",
       "    <tr>\n",
       "      <th>240</th>\n",
       "      <td>27.18</td>\n",
       "      <td>2.00</td>\n",
       "      <td>Female</td>\n",
       "      <td>Yes</td>\n",
       "      <td>Sat</td>\n",
       "      <td>Dinner</td>\n",
       "      <td>2</td>\n",
       "    </tr>\n",
       "    <tr>\n",
       "      <th>241</th>\n",
       "      <td>22.67</td>\n",
       "      <td>2.00</td>\n",
       "      <td>Male</td>\n",
       "      <td>Yes</td>\n",
       "      <td>Sat</td>\n",
       "      <td>Dinner</td>\n",
       "      <td>2</td>\n",
       "    </tr>\n",
       "    <tr>\n",
       "      <th>242</th>\n",
       "      <td>17.82</td>\n",
       "      <td>1.75</td>\n",
       "      <td>Male</td>\n",
       "      <td>No</td>\n",
       "      <td>Sat</td>\n",
       "      <td>Dinner</td>\n",
       "      <td>2</td>\n",
       "    </tr>\n",
       "    <tr>\n",
       "      <th>243</th>\n",
       "      <td>18.78</td>\n",
       "      <td>3.00</td>\n",
       "      <td>Female</td>\n",
       "      <td>No</td>\n",
       "      <td>Thur</td>\n",
       "      <td>Dinner</td>\n",
       "      <td>2</td>\n",
       "    </tr>\n",
       "  </tbody>\n",
       "</table>\n",
       "<p>244 rows × 7 columns</p>\n",
       "</div>"
      ],
      "text/plain": [
       "     total_bill   tip     sex smoker   day    time  size\n",
       "0         16.99  1.01  Female     No   Sun  Dinner     2\n",
       "1         10.34  1.66    Male     No   Sun  Dinner     3\n",
       "2         21.01  3.50    Male     No   Sun  Dinner     3\n",
       "3         23.68  3.31    Male     No   Sun  Dinner     2\n",
       "4         24.59  3.61  Female     No   Sun  Dinner     4\n",
       "..          ...   ...     ...    ...   ...     ...   ...\n",
       "239       29.03  5.92    Male     No   Sat  Dinner     3\n",
       "240       27.18  2.00  Female    Yes   Sat  Dinner     2\n",
       "241       22.67  2.00    Male    Yes   Sat  Dinner     2\n",
       "242       17.82  1.75    Male     No   Sat  Dinner     2\n",
       "243       18.78  3.00  Female     No  Thur  Dinner     2\n",
       "\n",
       "[244 rows x 7 columns]"
      ]
     },
     "execution_count": 3,
     "metadata": {},
     "output_type": "execute_result"
    }
   ],
   "source": [
    "tips = pd.read_csv('C:\\\\Users\\\\ASHISH\\\\Desktop\\\\DataSets\\\\tips_data.csv')\n",
    "tips"
   ]
  },
  {
   "cell_type": "markdown",
   "metadata": {},
   "source": [
    "## 2. Independent Two Sample T-Test:\n",
    "## (A) Is there a difference in the total bill for different meals ?"
   ]
  },
  {
   "cell_type": "code",
   "execution_count": 4,
   "metadata": {},
   "outputs": [
    {
     "data": {
      "text/html": [
       "<div>\n",
       "<style scoped>\n",
       "    .dataframe tbody tr th:only-of-type {\n",
       "        vertical-align: middle;\n",
       "    }\n",
       "\n",
       "    .dataframe tbody tr th {\n",
       "        vertical-align: top;\n",
       "    }\n",
       "\n",
       "    .dataframe thead th {\n",
       "        text-align: right;\n",
       "    }\n",
       "</style>\n",
       "<table border=\"1\" class=\"dataframe\">\n",
       "  <thead>\n",
       "    <tr style=\"text-align: right;\">\n",
       "      <th>time</th>\n",
       "      <th>Dinner</th>\n",
       "      <th>Lunch</th>\n",
       "    </tr>\n",
       "  </thead>\n",
       "  <tbody>\n",
       "    <tr>\n",
       "      <th>count</th>\n",
       "      <td>176.000000</td>\n",
       "      <td>68.000000</td>\n",
       "    </tr>\n",
       "    <tr>\n",
       "      <th>mean</th>\n",
       "      <td>20.797159</td>\n",
       "      <td>17.168676</td>\n",
       "    </tr>\n",
       "    <tr>\n",
       "      <th>std</th>\n",
       "      <td>9.142029</td>\n",
       "      <td>7.713882</td>\n",
       "    </tr>\n",
       "    <tr>\n",
       "      <th>min</th>\n",
       "      <td>3.070000</td>\n",
       "      <td>7.510000</td>\n",
       "    </tr>\n",
       "    <tr>\n",
       "      <th>25%</th>\n",
       "      <td>14.437500</td>\n",
       "      <td>12.235000</td>\n",
       "    </tr>\n",
       "    <tr>\n",
       "      <th>50%</th>\n",
       "      <td>18.390000</td>\n",
       "      <td>15.965000</td>\n",
       "    </tr>\n",
       "    <tr>\n",
       "      <th>75%</th>\n",
       "      <td>25.282500</td>\n",
       "      <td>19.532500</td>\n",
       "    </tr>\n",
       "    <tr>\n",
       "      <th>max</th>\n",
       "      <td>50.810000</td>\n",
       "      <td>43.110000</td>\n",
       "    </tr>\n",
       "  </tbody>\n",
       "</table>\n",
       "</div>"
      ],
      "text/plain": [
       "time       Dinner      Lunch\n",
       "count  176.000000  68.000000\n",
       "mean    20.797159  17.168676\n",
       "std      9.142029   7.713882\n",
       "min      3.070000   7.510000\n",
       "25%     14.437500  12.235000\n",
       "50%     18.390000  15.965000\n",
       "75%     25.282500  19.532500\n",
       "max     50.810000  43.110000"
      ]
     },
     "execution_count": 4,
     "metadata": {},
     "output_type": "execute_result"
    }
   ],
   "source": [
    "tips.groupby('time')[\"total_bill\"].describe().T"
   ]
  },
  {
   "cell_type": "code",
   "execution_count": 5,
   "metadata": {
    "scrolled": true
   },
   "outputs": [
    {
     "data": {
      "image/png": "[encoded data removed]",
      "text/plain": [
       "<Figure size 360x360 with 1 Axes>"
      ]
     },
     "metadata": {
      "needs_background": "light"
     },
     "output_type": "display_data"
    }
   ],
   "source": [
    "sns.catplot(x=\"time\", y=\"total_bill\", kind=\"box\", data=tips)\n",
    "plt.show()"
   ]
  },
  {
   "cell_type": "markdown",
   "metadata": {},
   "source": [
    "### Creating 2 independent samples"
   ]
  },
  {
   "cell_type": "code",
   "execution_count": 6,
   "metadata": {},
   "outputs": [
    {
     "data": {
      "text/plain": [
       "(68, 7)"
      ]
     },
     "execution_count": 6,
     "metadata": {},
     "output_type": "execute_result"
    }
   ],
   "source": [
    "tips_lunch = tips[(tips[\"time\"]== \"Lunch\")]\n",
    "tips_lunch.shape"
   ]
  },
  {
   "cell_type": "code",
   "execution_count": 7,
   "metadata": {},
   "outputs": [
    {
     "data": {
      "text/plain": [
       "(176, 7)"
      ]
     },
     "execution_count": 7,
     "metadata": {},
     "output_type": "execute_result"
    }
   ],
   "source": [
    "tips_dinner = tips[(tips[\"time\"]== \"Dinner\")]\n",
    "tips_dinner.shape"
   ]
  },
  {
   "cell_type": "markdown",
   "metadata": {},
   "source": [
    "### Sampling to make the sample size equal"
   ]
  },
  {
   "cell_type": "code",
   "execution_count": 8,
   "metadata": {},
   "outputs": [
    {
     "data": {
      "text/plain": [
       "(68, 7)"
      ]
     },
     "execution_count": 8,
     "metadata": {},
     "output_type": "execute_result"
    }
   ],
   "source": [
    "tips_dinner = tips_dinner.sample(68, random_state=12)\n",
    "tips_dinner.shape"
   ]
  },
  {
   "cell_type": "markdown",
   "metadata": {},
   "source": [
    "### Levene's test to test the variance:\n",
    "\n",
    "* Null Hypothesis : Variance of 2 groups is same.\n",
    "* Alternative Hypothesis : Variance is not same."
   ]
  },
  {
   "cell_type": "code",
   "execution_count": 9,
   "metadata": {
    "scrolled": false
   },
   "outputs": [
    {
     "data": {
      "text/plain": [
       "LeveneResult(statistic=0.0870560856198507, pvalue=0.76841028768732)"
      ]
     },
     "execution_count": 9,
     "metadata": {},
     "output_type": "execute_result"
    }
   ],
   "source": [
    "stats.levene(tips_lunch[\"total_bill\"], tips_dinner[\"total_bill\"])"
   ]
  },
  {
   "cell_type": "markdown",
   "metadata": {},
   "source": [
    "* At 5% (0.05) Level of Significance, p-value is not < 0.05.\n",
    "* Hence, we Do Not Reject the Null Hypothesis.\n",
    "* To conclude, Variance of 2 groups is Same."
   ]
  },
  {
   "cell_type": "markdown",
   "metadata": {},
   "source": [
    "### Difference between 2 samples and by scaling it"
   ]
  },
  {
   "cell_type": "code",
   "execution_count": 10,
   "metadata": {},
   "outputs": [
    {
     "data": {
      "text/plain": [
       "array([-0.1894822 ,  0.84987377, -0.65795104,  0.82521752, -1.90688518,\n",
       "       -0.31466011,  1.42645081, -0.39052551,  1.89871292, -1.58540555,\n",
       "        0.8840132 ,  0.07320174,  0.477185  , -1.13685138,  0.10828949,\n",
       "        1.32498083, -1.9836989 ,  0.11777267,  0.86978844, -0.44837288,\n",
       "       -0.86658089,  1.5781816 , -1.06667588,  0.31881597, -0.6124318 ,\n",
       "        0.98927644,  0.6023629 ,  0.91435936, -0.6285532 , -0.0481829 ,\n",
       "        1.00255289, -1.68877216, -0.81537175, -1.159611  ,  0.28088327,\n",
       "        0.66779681, -1.05719271,  0.10639286,  1.57059506,  1.27187505,\n",
       "        0.8299591 , -0.69114216,  0.14432555, -0.16008436, -0.85994267,\n",
       "       -1.58350892,  0.46201192,  0.95608533,  0.24674384, -0.63139815,\n",
       "       -0.80399194, -0.50811688,  3.29463627, -0.47777072, -1.30565189,\n",
       "        0.8024579 , -1.39858701, -0.25017452, -0.07283915,  1.00919111,\n",
       "       -0.14491128,  0.71710932,  0.50278957, -0.49863371, -0.36586926,\n",
       "       -0.91399677,  0.6127944 , -0.51285847])"
      ]
     },
     "execution_count": 10,
     "metadata": {},
     "output_type": "execute_result"
    }
   ],
   "source": [
    "diff = scale(np.array(tips_lunch[\"total_bill\"]) - np.array(tips_dinner[\"total_bill\"], dtype=np.float))\n",
    "diff"
   ]
  },
  {
   "cell_type": "code",
   "execution_count": 11,
   "metadata": {},
   "outputs": [
    {
     "data": {
      "text/plain": [
       "(array([ 5.,  6., 15., 13.,  9., 13.,  5.,  1.,  0.,  1.]),\n",
       " array([-1.9836989 , -1.45586538, -0.92803187, -0.40019835,  0.12763517,\n",
       "         0.65546868,  1.1833022 ,  1.71113572,  2.23896923,  2.76680275,\n",
       "         3.29463627]),\n",
       " <BarContainer object of 10 artists>)"
      ]
     },
     "execution_count": 11,
     "metadata": {},
     "output_type": "execute_result"
    },
    {
     "data": {
      "image/png": "[encoded data removed]",
      "text/plain": [
       "<Figure size 432x288 with 1 Axes>"
      ]
     },
     "metadata": {
      "needs_background": "light"
     },
     "output_type": "display_data"
    }
   ],
   "source": [
    "plt.hist(diff)"
   ]
  },
  {
   "cell_type": "code",
   "execution_count": 12,
   "metadata": {},
   "outputs": [
    {
     "data": {
      "image/png": "[encoded data removed]",
      "text/plain": [
       "<Figure size 432x288 with 1 Axes>"
      ]
     },
     "metadata": {
      "needs_background": "light"
     },
     "output_type": "display_data"
    }
   ],
   "source": [
    "stats.probplot(diff, plot=plt, dist='norm')\n",
    "plt.show()"
   ]
  },
  {
   "cell_type": "markdown",
   "metadata": {},
   "source": [
    "### Shapiro Test for Normality\n",
    "* Null Hypothesis : Data follows Normal Distribution.\n",
    "* Alternative Hypothesis : Data does not follow Normal Distribution."
   ]
  },
  {
   "cell_type": "code",
   "execution_count": 13,
   "metadata": {},
   "outputs": [
    {
     "data": {
      "text/plain": [
       "ShapiroResult(statistic=0.9808470010757446, pvalue=0.37968671321868896)"
      ]
     },
     "execution_count": 13,
     "metadata": {},
     "output_type": "execute_result"
    }
   ],
   "source": [
    "stats.shapiro(diff) # Test Statistic, P-value"
   ]
  },
  {
   "cell_type": "markdown",
   "metadata": {},
   "source": [
    "* At 0.05 Level of Significance, p-value 0.14 is not < 0.05.\n",
    "* Hence, we DO NOT REJECT the H0.\n",
    "* The data follows Normal Distribution."
   ]
  },
  {
   "cell_type": "markdown",
   "metadata": {},
   "source": [
    "### Independent t-test\n",
    "* Null Hypothesis : There is no difference in the mean of 2 groups. ( µ1 = µ2 )\n",
    "* Alternative Hypothesis : Mean of group 1 is not equal to mean of group 2. ( µ1 <> µ2 )"
   ]
  },
  {
   "cell_type": "code",
   "execution_count": 14,
   "metadata": {},
   "outputs": [
    {
     "data": {
      "text/plain": [
       "Ttest_indResult(statistic=-2.0725324762883566, pvalue=0.04013241105176228)"
      ]
     },
     "execution_count": 14,
     "metadata": {},
     "output_type": "execute_result"
    }
   ],
   "source": [
    "stats.ttest_ind(tips_lunch[\"total_bill\"], tips_dinner[\"total_bill\"])"
   ]
  },
  {
   "cell_type": "markdown",
   "metadata": {},
   "source": [
    "* At 5% Level of Signifcance, the p-value 0.13 is not < 0.05.\n",
    "* Hence, we DO NOT REJECT the NULL Hypothesis\n",
    "* There is no Statistical Difference between the Average Total Bill of Lunch and Dinner."
   ]
  },
  {
   "cell_type": "markdown",
   "metadata": {},
   "source": [
    "### Using Researchpy library "
   ]
  },
  {
   "cell_type": "code",
   "execution_count": 15,
   "metadata": {},
   "outputs": [],
   "source": [
    "descriptives, result = rp.ttest(tips_lunch[\"total_bill\"], tips_dinner[\"total_bill\"], equal_variances=True) # False if variance is unequal"
   ]
  },
  {
   "cell_type": "code",
   "execution_count": 16,
   "metadata": {},
   "outputs": [
    {
     "data": {
      "text/html": [
       "<div>\n",
       "<style scoped>\n",
       "    .dataframe tbody tr th:only-of-type {\n",
       "        vertical-align: middle;\n",
       "    }\n",
       "\n",
       "    .dataframe tbody tr th {\n",
       "        vertical-align: top;\n",
       "    }\n",
       "\n",
       "    .dataframe thead th {\n",
       "        text-align: right;\n",
       "    }\n",
       "</style>\n",
       "<table border=\"1\" class=\"dataframe\">\n",
       "  <thead>\n",
       "    <tr style=\"text-align: right;\">\n",
       "      <th></th>\n",
       "      <th>Variable</th>\n",
       "      <th>N</th>\n",
       "      <th>Mean</th>\n",
       "      <th>SD</th>\n",
       "      <th>SE</th>\n",
       "      <th>95% Conf.</th>\n",
       "      <th>Interval</th>\n",
       "    </tr>\n",
       "  </thead>\n",
       "  <tbody>\n",
       "    <tr>\n",
       "      <th>0</th>\n",
       "      <td>total_bill</td>\n",
       "      <td>68.0</td>\n",
       "      <td>17.168676</td>\n",
       "      <td>7.713882</td>\n",
       "      <td>0.935446</td>\n",
       "      <td>15.301519</td>\n",
       "      <td>19.035834</td>\n",
       "    </tr>\n",
       "    <tr>\n",
       "      <th>1</th>\n",
       "      <td>total_bill</td>\n",
       "      <td>68.0</td>\n",
       "      <td>19.820588</td>\n",
       "      <td>7.199246</td>\n",
       "      <td>0.873037</td>\n",
       "      <td>18.077999</td>\n",
       "      <td>21.563177</td>\n",
       "    </tr>\n",
       "    <tr>\n",
       "      <th>2</th>\n",
       "      <td>combined</td>\n",
       "      <td>136.0</td>\n",
       "      <td>18.494632</td>\n",
       "      <td>7.551516</td>\n",
       "      <td>0.647537</td>\n",
       "      <td>17.214003</td>\n",
       "      <td>19.775262</td>\n",
       "    </tr>\n",
       "  </tbody>\n",
       "</table>\n",
       "</div>"
      ],
      "text/plain": [
       "     Variable      N       Mean        SD        SE  95% Conf.   Interval\n",
       "0  total_bill   68.0  17.168676  7.713882  0.935446  15.301519  19.035834\n",
       "1  total_bill   68.0  19.820588  7.199246  0.873037  18.077999  21.563177\n",
       "2    combined  136.0  18.494632  7.551516  0.647537  17.214003  19.775262"
      ]
     },
     "execution_count": 16,
     "metadata": {},
     "output_type": "execute_result"
    }
   ],
   "source": [
    "descriptives"
   ]
  },
  {
   "cell_type": "code",
   "execution_count": 17,
   "metadata": {},
   "outputs": [
    {
     "data": {
      "text/html": [
       "<div>\n",
       "<style scoped>\n",
       "    .dataframe tbody tr th:only-of-type {\n",
       "        vertical-align: middle;\n",
       "    }\n",
       "\n",
       "    .dataframe tbody tr th {\n",
       "        vertical-align: top;\n",
       "    }\n",
       "\n",
       "    .dataframe thead th {\n",
       "        text-align: right;\n",
       "    }\n",
       "</style>\n",
       "<table border=\"1\" class=\"dataframe\">\n",
       "  <thead>\n",
       "    <tr style=\"text-align: right;\">\n",
       "      <th></th>\n",
       "      <th>Independent t-test</th>\n",
       "      <th>results</th>\n",
       "    </tr>\n",
       "  </thead>\n",
       "  <tbody>\n",
       "    <tr>\n",
       "      <th>0</th>\n",
       "      <td>Difference (total_bill - total_bill) =</td>\n",
       "      <td>-2.6519</td>\n",
       "    </tr>\n",
       "    <tr>\n",
       "      <th>1</th>\n",
       "      <td>Degrees of freedom =</td>\n",
       "      <td>134.0000</td>\n",
       "    </tr>\n",
       "    <tr>\n",
       "      <th>2</th>\n",
       "      <td>t =</td>\n",
       "      <td>-2.0725</td>\n",
       "    </tr>\n",
       "    <tr>\n",
       "      <th>3</th>\n",
       "      <td>Two side test p value =</td>\n",
       "      <td>0.0401</td>\n",
       "    </tr>\n",
       "    <tr>\n",
       "      <th>4</th>\n",
       "      <td>Difference &lt; 0 p value =</td>\n",
       "      <td>0.0201</td>\n",
       "    </tr>\n",
       "    <tr>\n",
       "      <th>5</th>\n",
       "      <td>Difference &gt; 0 p value =</td>\n",
       "      <td>0.9799</td>\n",
       "    </tr>\n",
       "    <tr>\n",
       "      <th>6</th>\n",
       "      <td>Cohen's d =</td>\n",
       "      <td>-0.3554</td>\n",
       "    </tr>\n",
       "    <tr>\n",
       "      <th>7</th>\n",
       "      <td>Hedge's g =</td>\n",
       "      <td>-0.3534</td>\n",
       "    </tr>\n",
       "    <tr>\n",
       "      <th>8</th>\n",
       "      <td>Glass's delta =</td>\n",
       "      <td>-0.3438</td>\n",
       "    </tr>\n",
       "    <tr>\n",
       "      <th>9</th>\n",
       "      <td>r =</td>\n",
       "      <td>0.1762</td>\n",
       "    </tr>\n",
       "  </tbody>\n",
       "</table>\n",
       "</div>"
      ],
      "text/plain": [
       "                        Independent t-test   results\n",
       "0  Difference (total_bill - total_bill) =    -2.6519\n",
       "1                    Degrees of freedom =   134.0000\n",
       "2                                     t =    -2.0725\n",
       "3                 Two side test p value =     0.0401\n",
       "4                Difference < 0 p value =     0.0201\n",
       "5                Difference > 0 p value =     0.9799\n",
       "6                             Cohen's d =    -0.3554\n",
       "7                             Hedge's g =    -0.3534\n",
       "8                         Glass's delta =    -0.3438\n",
       "9                                     r =     0.1762"
      ]
     },
     "execution_count": 17,
     "metadata": {},
     "output_type": "execute_result"
    }
   ],
   "source": [
    "result"
   ]
  },
  {
   "cell_type": "markdown",
   "metadata": {},
   "source": [
    "## (B) Is there a relation between tip and smoking ?"
   ]
  },
  {
   "cell_type": "code",
   "execution_count": 18,
   "metadata": {},
   "outputs": [
    {
     "data": {
      "text/html": [
       "<div>\n",
       "<style scoped>\n",
       "    .dataframe tbody tr th:only-of-type {\n",
       "        vertical-align: middle;\n",
       "    }\n",
       "\n",
       "    .dataframe tbody tr th {\n",
       "        vertical-align: top;\n",
       "    }\n",
       "\n",
       "    .dataframe thead th {\n",
       "        text-align: right;\n",
       "    }\n",
       "</style>\n",
       "<table border=\"1\" class=\"dataframe\">\n",
       "  <thead>\n",
       "    <tr style=\"text-align: right;\">\n",
       "      <th>smoker</th>\n",
       "      <th>No</th>\n",
       "      <th>Yes</th>\n",
       "    </tr>\n",
       "  </thead>\n",
       "  <tbody>\n",
       "    <tr>\n",
       "      <th>count</th>\n",
       "      <td>151.000000</td>\n",
       "      <td>93.000000</td>\n",
       "    </tr>\n",
       "    <tr>\n",
       "      <th>mean</th>\n",
       "      <td>2.991854</td>\n",
       "      <td>3.008710</td>\n",
       "    </tr>\n",
       "    <tr>\n",
       "      <th>std</th>\n",
       "      <td>1.377190</td>\n",
       "      <td>1.401468</td>\n",
       "    </tr>\n",
       "    <tr>\n",
       "      <th>min</th>\n",
       "      <td>1.000000</td>\n",
       "      <td>1.000000</td>\n",
       "    </tr>\n",
       "    <tr>\n",
       "      <th>25%</th>\n",
       "      <td>2.000000</td>\n",
       "      <td>2.000000</td>\n",
       "    </tr>\n",
       "    <tr>\n",
       "      <th>50%</th>\n",
       "      <td>2.740000</td>\n",
       "      <td>3.000000</td>\n",
       "    </tr>\n",
       "    <tr>\n",
       "      <th>75%</th>\n",
       "      <td>3.505000</td>\n",
       "      <td>3.680000</td>\n",
       "    </tr>\n",
       "    <tr>\n",
       "      <th>max</th>\n",
       "      <td>9.000000</td>\n",
       "      <td>10.000000</td>\n",
       "    </tr>\n",
       "  </tbody>\n",
       "</table>\n",
       "</div>"
      ],
      "text/plain": [
       "smoker          No        Yes\n",
       "count   151.000000  93.000000\n",
       "mean      2.991854   3.008710\n",
       "std       1.377190   1.401468\n",
       "min       1.000000   1.000000\n",
       "25%       2.000000   2.000000\n",
       "50%       2.740000   3.000000\n",
       "75%       3.505000   3.680000\n",
       "max       9.000000  10.000000"
      ]
     },
     "execution_count": 18,
     "metadata": {},
     "output_type": "execute_result"
    }
   ],
   "source": [
    "tips.groupby(\"smoker\")[\"tip\"].describe().T"
   ]
  },
  {
   "cell_type": "markdown",
   "metadata": {},
   "source": [
    "### Creating 2 independent samples"
   ]
  },
  {
   "cell_type": "code",
   "execution_count": 19,
   "metadata": {},
   "outputs": [
    {
     "data": {
      "text/plain": [
       "(93, 7)"
      ]
     },
     "execution_count": 19,
     "metadata": {},
     "output_type": "execute_result"
    }
   ],
   "source": [
    "tips_smoker = tips[(tips[\"smoker\"]==\"Yes\")]\n",
    "tips_smoker.shape"
   ]
  },
  {
   "cell_type": "code",
   "execution_count": 20,
   "metadata": {},
   "outputs": [
    {
     "data": {
      "text/plain": [
       "(151, 7)"
      ]
     },
     "execution_count": 20,
     "metadata": {},
     "output_type": "execute_result"
    }
   ],
   "source": [
    "tips_non_smoker = tips[(tips[\"smoker\"]==\"No\")]\n",
    "tips_non_smoker.shape"
   ]
  },
  {
   "cell_type": "markdown",
   "metadata": {},
   "source": [
    "### Sampling to make the sample size equal"
   ]
  },
  {
   "cell_type": "code",
   "execution_count": 21,
   "metadata": {},
   "outputs": [
    {
     "data": {
      "text/plain": [
       "(93, 7)"
      ]
     },
     "execution_count": 21,
     "metadata": {},
     "output_type": "execute_result"
    }
   ],
   "source": [
    "tips_non_smoker = tips_non_smoker.sample(93, random_state=123)\n",
    "tips_non_smoker.shape"
   ]
  },
  {
   "cell_type": "markdown",
   "metadata": {},
   "source": [
    "### Levene's test to test the variance:\n",
    "\n",
    "* Null Hypothesis : Variance of 2 groups is same.\n",
    "* Alternative Hypothesis : Variance is not same."
   ]
  },
  {
   "cell_type": "code",
   "execution_count": 22,
   "metadata": {},
   "outputs": [
    {
     "data": {
      "text/plain": [
       "LeveneResult(statistic=0.17304172557702124, pvalue=0.6779073253317176)"
      ]
     },
     "execution_count": 22,
     "metadata": {},
     "output_type": "execute_result"
    }
   ],
   "source": [
    "stats.levene(tips_smoker[\"tip\"], tips_non_smoker[\"tip\"])"
   ]
  },
  {
   "cell_type": "markdown",
   "metadata": {},
   "source": [
    "* At 5% (0.05) Level of Significance, 0.67 is not < 0.05.\n",
    "* Hence, we Do Not Reject the Null Hypothesis.\n",
    "* Variance of 2 groups is Equal."
   ]
  },
  {
   "cell_type": "markdown",
   "metadata": {},
   "source": [
    "### Difference between 2 samples and by scaling it"
   ]
  },
  {
   "cell_type": "code",
   "execution_count": 23,
   "metadata": {},
   "outputs": [
    {
     "data": {
      "text/plain": [
       "array([ 0.14724691, -0.73482941, -0.39724465, -0.74571924, -1.20309215,\n",
       "        0.85508593, -1.4644481 ,  0.25070031,  0.12546725,  0.95309441,\n",
       "       -0.05965988,  0.46305201,  0.98576391,  0.71351813, -0.64771076,\n",
       "        1.55748004,  1.11099696,  0.72985287, -0.91995654,  0.55017066,\n",
       "       -1.08330401,  0.34326387,  0.0383486 ,  0.12002233, -0.28290142,\n",
       "        0.74618762,  0.01112402,  0.74074271,  0.16902657,  0.58828507,\n",
       "       -0.9417362 , -0.97985061,  4.49228953, -0.01610056,  1.06743764,\n",
       "        0.53928083,  1.52481055,  0.7734122 , -0.10321921, -1.55701166,\n",
       "        0.22892064, -0.73482941,  0.99120882,  0.52294608,  0.16902657,\n",
       "        1.47580631,  0.78974695, -0.91995654,  0.30514946, -1.84559218,\n",
       "        0.1799164 , -1.4644481 ,  0.13091216, -0.53336753, -0.26112176,\n",
       "        0.16902657, -3.14148209,  0.86053085, -1.77480828,  0.07101809,\n",
       "        1.25800968, -1.82381252, -0.5551472 ,  0.16902657,  0.44127235,\n",
       "        0.15813674, -0.96896078,  0.64273423,  0.32148421,  0.02201385,\n",
       "       -0.10321921, -0.34279549, -0.15766836,  2.3469928 , -0.86550738,\n",
       "        0.67540372, -0.37546498, -0.1358887 ,  0.21803081, -0.17944802,\n",
       "        0.37048845, -0.14677853,  0.0383486 ,  0.3541537 , -0.11955395,\n",
       "       -0.89817688, -1.73669387, -0.11410904,  0.44127235, -1.7802532 ,\n",
       "       -0.5551472 , -0.01065564, -0.26656667])"
      ]
     },
     "execution_count": 23,
     "metadata": {},
     "output_type": "execute_result"
    }
   ],
   "source": [
    "tip_diff = scale(np.array(tips_smoker[\"tip\"]) - np.array(tips_non_smoker[\"tip\"]))\n",
    "tip_diff"
   ]
  },
  {
   "cell_type": "markdown",
   "metadata": {},
   "source": [
    "### Shapiro Test for Normality\n",
    "* Null Hypothesis : Data is distributed Normally.\n",
    "* Alternative Hypothesis : Data is not distributed Normally."
   ]
  },
  {
   "cell_type": "code",
   "execution_count": 24,
   "metadata": {},
   "outputs": [
    {
     "data": {
      "text/plain": [
       "ShapiroResult(statistic=0.9378699064254761, pvalue=0.00025142915546894073)"
      ]
     },
     "execution_count": 24,
     "metadata": {},
     "output_type": "execute_result"
    }
   ],
   "source": [
    "stats.shapiro(tip_diff)"
   ]
  },
  {
   "cell_type": "markdown",
   "metadata": {},
   "source": [
    "* At 0.05 Level of Significance, p-value 0.02 is < 0.05.\n",
    "* Hence, we REJECT the Null Hypothesis.\n",
    "* Data is not distributed Normally.\n",
    "### Since the data is not normally distributed, we cannot Trust the results of t-test."
   ]
  },
  {
   "cell_type": "markdown",
   "metadata": {},
   "source": [
    "## 3. Two Paired Sample t-test"
   ]
  },
  {
   "cell_type": "code",
   "execution_count": 26,
   "metadata": {},
   "outputs": [
    {
     "data": {
      "text/html": [
       "<div>\n",
       "<style scoped>\n",
       "    .dataframe tbody tr th:only-of-type {\n",
       "        vertical-align: middle;\n",
       "    }\n",
       "\n",
       "    .dataframe tbody tr th {\n",
       "        vertical-align: top;\n",
       "    }\n",
       "\n",
       "    .dataframe thead th {\n",
       "        text-align: right;\n",
       "    }\n",
       "</style>\n",
       "<table border=\"1\" class=\"dataframe\">\n",
       "  <thead>\n",
       "    <tr style=\"text-align: right;\">\n",
       "      <th></th>\n",
       "      <th>patient</th>\n",
       "      <th>sex</th>\n",
       "      <th>agegrp</th>\n",
       "      <th>bp_before</th>\n",
       "      <th>bp_after</th>\n",
       "    </tr>\n",
       "  </thead>\n",
       "  <tbody>\n",
       "    <tr>\n",
       "      <th>0</th>\n",
       "      <td>1</td>\n",
       "      <td>Male</td>\n",
       "      <td>30-45</td>\n",
       "      <td>143</td>\n",
       "      <td>153</td>\n",
       "    </tr>\n",
       "    <tr>\n",
       "      <th>1</th>\n",
       "      <td>2</td>\n",
       "      <td>Male</td>\n",
       "      <td>30-45</td>\n",
       "      <td>163</td>\n",
       "      <td>170</td>\n",
       "    </tr>\n",
       "    <tr>\n",
       "      <th>2</th>\n",
       "      <td>3</td>\n",
       "      <td>Male</td>\n",
       "      <td>30-45</td>\n",
       "      <td>153</td>\n",
       "      <td>168</td>\n",
       "    </tr>\n",
       "    <tr>\n",
       "      <th>3</th>\n",
       "      <td>4</td>\n",
       "      <td>Male</td>\n",
       "      <td>30-45</td>\n",
       "      <td>153</td>\n",
       "      <td>142</td>\n",
       "    </tr>\n",
       "    <tr>\n",
       "      <th>4</th>\n",
       "      <td>5</td>\n",
       "      <td>Male</td>\n",
       "      <td>30-45</td>\n",
       "      <td>146</td>\n",
       "      <td>141</td>\n",
       "    </tr>\n",
       "  </tbody>\n",
       "</table>\n",
       "</div>"
      ],
      "text/plain": [
       "   patient   sex agegrp  bp_before  bp_after\n",
       "0        1  Male  30-45        143       153\n",
       "1        2  Male  30-45        163       170\n",
       "2        3  Male  30-45        153       168\n",
       "3        4  Male  30-45        153       142\n",
       "4        5  Male  30-45        146       141"
      ]
     },
     "execution_count": 26,
     "metadata": {},
     "output_type": "execute_result"
    }
   ],
   "source": [
    "bp_data = pd.read_csv(\"C:\\\\Users\\\\ASHISH\\\\Desktop\\\\DataSets\\\\blood_pressure.csv\")\n",
    "bp_data.head()"
   ]
  },
  {
   "cell_type": "code",
   "execution_count": 27,
   "metadata": {},
   "outputs": [
    {
     "data": {
      "text/html": [
       "<div>\n",
       "<style scoped>\n",
       "    .dataframe tbody tr th:only-of-type {\n",
       "        vertical-align: middle;\n",
       "    }\n",
       "\n",
       "    .dataframe tbody tr th {\n",
       "        vertical-align: top;\n",
       "    }\n",
       "\n",
       "    .dataframe thead th {\n",
       "        text-align: right;\n",
       "    }\n",
       "</style>\n",
       "<table border=\"1\" class=\"dataframe\">\n",
       "  <thead>\n",
       "    <tr style=\"text-align: right;\">\n",
       "      <th></th>\n",
       "      <th>patient</th>\n",
       "      <th>bp_before</th>\n",
       "      <th>bp_after</th>\n",
       "    </tr>\n",
       "  </thead>\n",
       "  <tbody>\n",
       "    <tr>\n",
       "      <th>count</th>\n",
       "      <td>120.000000</td>\n",
       "      <td>120.000000</td>\n",
       "      <td>120.000000</td>\n",
       "    </tr>\n",
       "    <tr>\n",
       "      <th>mean</th>\n",
       "      <td>60.500000</td>\n",
       "      <td>156.450000</td>\n",
       "      <td>151.358333</td>\n",
       "    </tr>\n",
       "    <tr>\n",
       "      <th>std</th>\n",
       "      <td>34.785054</td>\n",
       "      <td>11.389845</td>\n",
       "      <td>14.177622</td>\n",
       "    </tr>\n",
       "    <tr>\n",
       "      <th>min</th>\n",
       "      <td>1.000000</td>\n",
       "      <td>138.000000</td>\n",
       "      <td>125.000000</td>\n",
       "    </tr>\n",
       "    <tr>\n",
       "      <th>25%</th>\n",
       "      <td>30.750000</td>\n",
       "      <td>147.000000</td>\n",
       "      <td>140.750000</td>\n",
       "    </tr>\n",
       "    <tr>\n",
       "      <th>50%</th>\n",
       "      <td>60.500000</td>\n",
       "      <td>154.500000</td>\n",
       "      <td>149.500000</td>\n",
       "    </tr>\n",
       "    <tr>\n",
       "      <th>75%</th>\n",
       "      <td>90.250000</td>\n",
       "      <td>164.000000</td>\n",
       "      <td>161.000000</td>\n",
       "    </tr>\n",
       "    <tr>\n",
       "      <th>max</th>\n",
       "      <td>120.000000</td>\n",
       "      <td>185.000000</td>\n",
       "      <td>185.000000</td>\n",
       "    </tr>\n",
       "  </tbody>\n",
       "</table>\n",
       "</div>"
      ],
      "text/plain": [
       "          patient   bp_before    bp_after\n",
       "count  120.000000  120.000000  120.000000\n",
       "mean    60.500000  156.450000  151.358333\n",
       "std     34.785054   11.389845   14.177622\n",
       "min      1.000000  138.000000  125.000000\n",
       "25%     30.750000  147.000000  140.750000\n",
       "50%     60.500000  154.500000  149.500000\n",
       "75%     90.250000  164.000000  161.000000\n",
       "max    120.000000  185.000000  185.000000"
      ]
     },
     "execution_count": 27,
     "metadata": {},
     "output_type": "execute_result"
    }
   ],
   "source": [
    "bp_data.describe()"
   ]
  },
  {
   "cell_type": "markdown",
   "metadata": {},
   "source": [
    "### Levene's test to test the variance:\n",
    "\n",
    "* Null Hypothesis : Variance of 2 groups is same.\n",
    "* Alternative Hypothesis : Variance is not same."
   ]
  },
  {
   "cell_type": "code",
   "execution_count": 28,
   "metadata": {},
   "outputs": [
    {
     "data": {
      "text/plain": [
       "LeveneResult(statistic=4.863729003161597, pvalue=0.028383666362347747)"
      ]
     },
     "execution_count": 28,
     "metadata": {},
     "output_type": "execute_result"
    }
   ],
   "source": [
    "stats.levene(bp_data[\"bp_before\"],bp_data[\"bp_after\"])"
   ]
  },
  {
   "cell_type": "markdown",
   "metadata": {},
   "source": [
    "* At 5% (0.05) Level of Significance, pvalue 0.02 is < 0.05.\n",
    "* Hence, we Reject the Null Hypothesis.\n",
    "* Variance of 2 groups is Not Equal."
   ]
  },
  {
   "cell_type": "markdown",
   "metadata": {},
   "source": [
    "### Scaled Residuals"
   ]
  },
  {
   "cell_type": "code",
   "execution_count": 30,
   "metadata": {},
   "outputs": [
    {
     "data": {
      "text/plain": [
       "array([-0.9067432 , -0.72649607, -1.20715509,  0.35498671, -0.00550755,\n",
       "       -0.1256723 ,  0.59531622,  0.41506909,  1.01589286,  1.676799  ,\n",
       "       -1.20715509,  0.53523384,  1.49655187, -1.14707271, -0.9067432 ,\n",
       "        1.25622236, -1.56764935,  2.21754039,  0.1146572 ,  0.41506909,\n",
       "       -1.4474846 , -0.24583706,  0.59531622,  1.31630474, -0.06558993,\n",
       "       -0.6664137 ,  0.65539859, -2.76929689,  0.29490433, -0.72649607,\n",
       "        1.13605761,  2.39778752, -0.78657845, -2.468885  ,  0.83564572,\n",
       "       -1.02690796, -0.78657845, -1.4474846 ,  2.39778752, -1.14707271,\n",
       "       -0.9067432 , -0.30591944, -0.6664137 , -0.24583706,  1.31630474,\n",
       "       -0.84666083, -0.1256723 ,  0.23482196, -1.14707271,  0.1146572 ,\n",
       "        1.43646949,  0.59531622, -0.48616657,  0.29490433, -1.20715509,\n",
       "        0.77556335, -2.04830836,  0.1146572 ,  0.35498671, -0.42608419,\n",
       "       -0.1256723 , -0.00550755, -0.42608419,  0.05457483,  1.31630474,\n",
       "       -0.18575468,  0.8957281 ,  0.65539859,  0.77556335, -0.1256723 ,\n",
       "        1.43646949,  1.01589286, -1.92814361,  1.07597523, -0.30591944,\n",
       "       -0.78657845, -0.72649607,  0.83564572, -0.42608419,  0.1146572 ,\n",
       "        1.49655187,  0.8957281 ,  0.41506909, -0.1256723 ,  0.29490433,\n",
       "        0.17473958, -0.60633132,  0.95581048, -0.1256723 ,  1.43646949,\n",
       "       -0.48616657,  1.49655187, -1.08699033, -0.18575468,  1.01589286,\n",
       "       -1.14707271, -1.80797886, -0.48616657,  0.17473958, -0.18575468,\n",
       "       -0.9067432 , -0.24583706, -0.42608419, -0.30591944,  1.13605761,\n",
       "        1.31630474,  0.05457483, -0.72649607, -0.1256723 ,  0.23482196,\n",
       "        1.01589286,  0.65539859, -0.96682558, -1.86806123,  1.07597523,\n",
       "       -0.30591944,  0.23482196, -0.84666083, -0.42608419,  1.01589286])"
      ]
     },
     "execution_count": 30,
     "metadata": {},
     "output_type": "execute_result"
    }
   ],
   "source": [
    "bp_diff = scale(bp_data[\"bp_before\"] - bp_data[\"bp_after\"])\n",
    "bp_diff"
   ]
  },
  {
   "cell_type": "code",
   "execution_count": 31,
   "metadata": {},
   "outputs": [
    {
     "data": {
      "text/plain": [
       "(array([ 2.,  4.,  3., 23., 21., 24., 16., 17.,  7.,  3.]),\n",
       " array([-2.76929689, -2.25258844, -1.73588   , -1.21917156, -0.70246312,\n",
       "        -0.18575468,  0.33095376,  0.8476622 ,  1.36437064,  1.88107908,\n",
       "         2.39778752]),\n",
       " <BarContainer object of 10 artists>)"
      ]
     },
     "execution_count": 31,
     "metadata": {},
     "output_type": "execute_result"
    },
    {
     "data": {
      "image/png": "[encoded data removed]",
      "text/plain": [
       "<Figure size 432x288 with 1 Axes>"
      ]
     },
     "metadata": {
      "needs_background": "light"
     },
     "output_type": "display_data"
    }
   ],
   "source": [
    "plt.hist(bp_diff)"
   ]
  },
  {
   "cell_type": "code",
   "execution_count": 32,
   "metadata": {},
   "outputs": [
    {
     "data": {
      "image/png": "[encoded data removed]",
      "text/plain": [
       "<Figure size 432x288 with 1 Axes>"
      ]
     },
     "metadata": {
      "needs_background": "light"
     },
     "output_type": "display_data"
    }
   ],
   "source": [
    "stats.probplot(bp_diff, plot=plt, dist='norm')\n",
    "plt.show()"
   ]
  },
  {
   "cell_type": "markdown",
   "metadata": {},
   "source": [
    "### Shapiro Test for Normality\n",
    "* Null Hypothesis : Data is distributed Normally.\n",
    "* Alternative Hypothesis : Data is not distributed Normally."
   ]
  },
  {
   "cell_type": "code",
   "execution_count": 33,
   "metadata": {},
   "outputs": [
    {
     "data": {
      "text/plain": [
       "ShapiroResult(statistic=0.992684006690979, pvalue=0.7841646671295166)"
      ]
     },
     "execution_count": 33,
     "metadata": {},
     "output_type": "execute_result"
    }
   ],
   "source": [
    "stats.shapiro(bp_diff)"
   ]
  },
  {
   "cell_type": "markdown",
   "metadata": {},
   "source": [
    "* At 0.05 Level of Significance, p-value 0.78 is not < 0.05.\n",
    "* Hence, we DO NOT REJECT the Null Hypothesis.\n",
    "* Data is distributed Normally."
   ]
  },
  {
   "cell_type": "markdown",
   "metadata": {},
   "source": [
    "### Since the variance is UN-EQUAL, we cannnot trust the result of 2 sample Paired T-test.\n",
    "### 2 paired sample t-test\n",
    "* Null Hypothesis : Mean of BP is Equal.\n",
    "* Alternative Hypothesis : Mean of BP is Not Equal."
   ]
  },
  {
   "cell_type": "code",
   "execution_count": 34,
   "metadata": {},
   "outputs": [
    {
     "data": {
      "text/plain": [
       "Ttest_relResult(statistic=3.3371870510833657, pvalue=0.0011297914644840823)"
      ]
     },
     "execution_count": 34,
     "metadata": {},
     "output_type": "execute_result"
    }
   ],
   "source": [
    "stats.ttest_rel(bp_data[\"bp_before\"],bp_data[\"bp_after\"])"
   ]
  },
  {
   "cell_type": "markdown",
   "metadata": {},
   "source": [
    "### Using Researchpy library "
   ]
  },
  {
   "cell_type": "code",
   "execution_count": 35,
   "metadata": {},
   "outputs": [
    {
     "data": {
      "text/html": [
       "<div>\n",
       "<style scoped>\n",
       "    .dataframe tbody tr th:only-of-type {\n",
       "        vertical-align: middle;\n",
       "    }\n",
       "\n",
       "    .dataframe tbody tr th {\n",
       "        vertical-align: top;\n",
       "    }\n",
       "\n",
       "    .dataframe thead th {\n",
       "        text-align: right;\n",
       "    }\n",
       "</style>\n",
       "<table border=\"1\" class=\"dataframe\">\n",
       "  <thead>\n",
       "    <tr style=\"text-align: right;\">\n",
       "      <th></th>\n",
       "      <th>Wilcoxon signed-rank test</th>\n",
       "      <th>results</th>\n",
       "    </tr>\n",
       "  </thead>\n",
       "  <tbody>\n",
       "    <tr>\n",
       "      <th>0</th>\n",
       "      <td>Mean for bp_before =</td>\n",
       "      <td>156.450000</td>\n",
       "    </tr>\n",
       "    <tr>\n",
       "      <th>1</th>\n",
       "      <td>Mean for bp_after =</td>\n",
       "      <td>151.358333</td>\n",
       "    </tr>\n",
       "    <tr>\n",
       "      <th>2</th>\n",
       "      <td>T value =</td>\n",
       "      <td>2234.500000</td>\n",
       "    </tr>\n",
       "    <tr>\n",
       "      <th>3</th>\n",
       "      <td>Z value =</td>\n",
       "      <td>-3.191600</td>\n",
       "    </tr>\n",
       "    <tr>\n",
       "      <th>4</th>\n",
       "      <td>Two sided p value =</td>\n",
       "      <td>0.001400</td>\n",
       "    </tr>\n",
       "    <tr>\n",
       "      <th>5</th>\n",
       "      <td>r =</td>\n",
       "      <td>-0.206000</td>\n",
       "    </tr>\n",
       "  </tbody>\n",
       "</table>\n",
       "</div>"
      ],
      "text/plain": [
       "  Wilcoxon signed-rank test      results\n",
       "0     Mean for bp_before =    156.450000\n",
       "1      Mean for bp_after =    151.358333\n",
       "2                T value =   2234.500000\n",
       "3                Z value =     -3.191600\n",
       "4      Two sided p value =      0.001400\n",
       "5                      r =     -0.206000"
      ]
     },
     "execution_count": 35,
     "metadata": {},
     "output_type": "execute_result"
    }
   ],
   "source": [
    "rp.ttest(bp_data[\"bp_before\"],bp_data[\"bp_after\"],\n",
    "                              equal_variances=False,\n",
    "                              paired=True)"
   ]
  },
  {
   "cell_type": "markdown",
   "metadata": {},
   "source": [
    "* p-value 0.0014 is < 0.05 Level of Significance. Hence, Reject Null Hypothesis.\n",
    "* There is significant difference in BP_Before and BP_after."
   ]
  },
  {
   "cell_type": "markdown",
   "metadata": {},
   "source": [
    "## 4. One Way ANOVA (1 Cat. variable with mult. groups and 1 Cont. variable)"
   ]
  },
  {
   "cell_type": "code",
   "execution_count": 36,
   "metadata": {},
   "outputs": [
    {
     "data": {
      "text/plain": [
       "array(['Sun', 'Sat', 'Thur', 'Fri'], dtype=object)"
      ]
     },
     "execution_count": 36,
     "metadata": {},
     "output_type": "execute_result"
    }
   ],
   "source": [
    "tips[\"day\"].unique()"
   ]
  },
  {
   "cell_type": "code",
   "execution_count": 37,
   "metadata": {},
   "outputs": [
    {
     "data": {
      "text/html": [
       "<div>\n",
       "<style scoped>\n",
       "    .dataframe tbody tr th:only-of-type {\n",
       "        vertical-align: middle;\n",
       "    }\n",
       "\n",
       "    .dataframe tbody tr th {\n",
       "        vertical-align: top;\n",
       "    }\n",
       "\n",
       "    .dataframe thead th {\n",
       "        text-align: right;\n",
       "    }\n",
       "</style>\n",
       "<table border=\"1\" class=\"dataframe\">\n",
       "  <thead>\n",
       "    <tr style=\"text-align: right;\">\n",
       "      <th>day</th>\n",
       "      <th>Fri</th>\n",
       "      <th>Sat</th>\n",
       "      <th>Sun</th>\n",
       "      <th>Thur</th>\n",
       "    </tr>\n",
       "  </thead>\n",
       "  <tbody>\n",
       "    <tr>\n",
       "      <th>count</th>\n",
       "      <td>19.000000</td>\n",
       "      <td>87.000000</td>\n",
       "      <td>76.000000</td>\n",
       "      <td>62.000000</td>\n",
       "    </tr>\n",
       "    <tr>\n",
       "      <th>mean</th>\n",
       "      <td>17.151579</td>\n",
       "      <td>20.441379</td>\n",
       "      <td>21.410000</td>\n",
       "      <td>17.682742</td>\n",
       "    </tr>\n",
       "    <tr>\n",
       "      <th>std</th>\n",
       "      <td>8.302660</td>\n",
       "      <td>9.480419</td>\n",
       "      <td>8.832122</td>\n",
       "      <td>7.886170</td>\n",
       "    </tr>\n",
       "    <tr>\n",
       "      <th>min</th>\n",
       "      <td>5.750000</td>\n",
       "      <td>3.070000</td>\n",
       "      <td>7.250000</td>\n",
       "      <td>7.510000</td>\n",
       "    </tr>\n",
       "    <tr>\n",
       "      <th>25%</th>\n",
       "      <td>12.095000</td>\n",
       "      <td>13.905000</td>\n",
       "      <td>14.987500</td>\n",
       "      <td>12.442500</td>\n",
       "    </tr>\n",
       "    <tr>\n",
       "      <th>50%</th>\n",
       "      <td>15.380000</td>\n",
       "      <td>18.240000</td>\n",
       "      <td>19.630000</td>\n",
       "      <td>16.200000</td>\n",
       "    </tr>\n",
       "    <tr>\n",
       "      <th>75%</th>\n",
       "      <td>21.750000</td>\n",
       "      <td>24.740000</td>\n",
       "      <td>25.597500</td>\n",
       "      <td>20.155000</td>\n",
       "    </tr>\n",
       "    <tr>\n",
       "      <th>max</th>\n",
       "      <td>40.170000</td>\n",
       "      <td>50.810000</td>\n",
       "      <td>48.170000</td>\n",
       "      <td>43.110000</td>\n",
       "    </tr>\n",
       "  </tbody>\n",
       "</table>\n",
       "</div>"
      ],
      "text/plain": [
       "day          Fri        Sat        Sun       Thur\n",
       "count  19.000000  87.000000  76.000000  62.000000\n",
       "mean   17.151579  20.441379  21.410000  17.682742\n",
       "std     8.302660   9.480419   8.832122   7.886170\n",
       "min     5.750000   3.070000   7.250000   7.510000\n",
       "25%    12.095000  13.905000  14.987500  12.442500\n",
       "50%    15.380000  18.240000  19.630000  16.200000\n",
       "75%    21.750000  24.740000  25.597500  20.155000\n",
       "max    40.170000  50.810000  48.170000  43.110000"
      ]
     },
     "execution_count": 37,
     "metadata": {},
     "output_type": "execute_result"
    }
   ],
   "source": [
    "tips.groupby('day')[\"total_bill\"].describe().T"
   ]
  },
  {
   "cell_type": "code",
   "execution_count": 38,
   "metadata": {},
   "outputs": [
    {
     "data": {
      "image/png": "[encoded data removed]",
      "text/plain": [
       "<Figure size 360x360 with 1 Axes>"
      ]
     },
     "metadata": {
      "needs_background": "light"
     },
     "output_type": "display_data"
    }
   ],
   "source": [
    "sns.catplot(x=\"day\", y=\"total_bill\", kind=\"box\", data=tips)\n",
    "plt.show()"
   ]
  },
  {
   "cell_type": "markdown",
   "metadata": {},
   "source": [
    "* stats.f_oneway(y1x1,y2x2,y3x3)\n",
    "* Null Hypothesis : Average Total Bill on All Days is Equal.\n",
    "* Alternative Hypothesis : Average Total Bill on All Days is NOT Equal."
   ]
  },
  {
   "cell_type": "code",
   "execution_count": 39,
   "metadata": {},
   "outputs": [
    {
     "data": {
      "text/plain": [
       "F_onewayResult(statistic=2.7674794432863363, pvalue=0.04245383328952047)"
      ]
     },
     "execution_count": 39,
     "metadata": {},
     "output_type": "execute_result"
    }
   ],
   "source": [
    "stats.f_oneway(tips['total_bill'][tips['day'] == \"Thur\"],\n",
    "               tips['total_bill'][tips['day'] == \"Fri\"],\n",
    "               tips['total_bill'][tips['day'] == \"Sat\"],\n",
    "               tips['total_bill'][tips['day'] == \"Sun\"]\n",
    "              )"
   ]
  },
  {
   "cell_type": "markdown",
   "metadata": {},
   "source": [
    "* At 0.05 Level of Significance, p-value 0.04 is < 0.05.\n",
    "* Hence, we REJECT the Null Hypothesis.\n",
    "* There is difference in Average Total Bill on different Days."
   ]
  },
  {
   "cell_type": "markdown",
   "metadata": {},
   "source": [
    "## 5. Post-Hoc Test by using Tukey's Method\n",
    "\n",
    "https://www.statisticshowto.com/tukey-test-honest-significant-difference/"
   ]
  },
  {
   "cell_type": "code",
   "execution_count": 40,
   "metadata": {},
   "outputs": [],
   "source": [
    "# mul_com = MultiComparison(y,x)\n",
    "\n",
    "mul_com = MultiComparison(tips[\"total_bill\"],tips[\"day\"])"
   ]
  },
  {
   "cell_type": "code",
   "execution_count": 41,
   "metadata": {},
   "outputs": [
    {
     "name": "stdout",
     "output_type": "stream",
     "text": [
      "Multiple Comparison of Means - Tukey HSD, FWER=0.05 \n",
      "====================================================\n",
      "group1 group2 meandiff p-adj   lower   upper  reject\n",
      "----------------------------------------------------\n",
      "   Fri    Sat   3.2898 0.4554 -2.4802  9.0598  False\n",
      "   Fri    Sun   4.2584 0.2373 -1.5859 10.1028  False\n",
      "   Fri   Thur   0.5312    0.9 -5.4437   6.506  False\n",
      "   Sat    Sun   0.9686 0.8921 -2.6089  4.5462  False\n",
      "   Sat   Thur  -2.7586 0.2375 -6.5456  1.0284  False\n",
      "   Sun   Thur  -3.7273 0.0669 -7.6266  0.1721  False\n",
      "----------------------------------------------------\n"
     ]
    }
   ],
   "source": [
    "mul_result = mul_com.tukeyhsd()\n",
    "print(mul_result)"
   ]
  },
  {
   "cell_type": "markdown",
   "metadata": {},
   "source": [
    "## 6. Two Way ANOVA (2 Cat. variables with 1 Conti. variable)"
   ]
  },
  {
   "cell_type": "code",
   "execution_count": 42,
   "metadata": {},
   "outputs": [
    {
     "data": {
      "text/html": [
       "<table class=\"simpletable\">\n",
       "<caption>OLS Regression Results</caption>\n",
       "<tr>\n",
       "  <th>Dep. Variable:</th>       <td>total_bill</td>    <th>  R-squared:         </th> <td>   0.033</td>\n",
       "</tr>\n",
       "<tr>\n",
       "  <th>Model:</th>                   <td>OLS</td>       <th>  Adj. R-squared:    </th> <td>   0.021</td>\n",
       "</tr>\n",
       "<tr>\n",
       "  <th>Method:</th>             <td>Least Squares</td>  <th>  F-statistic:       </th> <td>   2.767</td>\n",
       "</tr>\n",
       "<tr>\n",
       "  <th>Date:</th>             <td>Mon, 08 Mar 2021</td> <th>  Prob (F-statistic):</th>  <td>0.0425</td> \n",
       "</tr>\n",
       "<tr>\n",
       "  <th>Time:</th>                 <td>21:04:03</td>     <th>  Log-Likelihood:    </th> <td> -875.03</td>\n",
       "</tr>\n",
       "<tr>\n",
       "  <th>No. Observations:</th>      <td>   244</td>      <th>  AIC:               </th> <td>   1758.</td>\n",
       "</tr>\n",
       "<tr>\n",
       "  <th>Df Residuals:</th>          <td>   240</td>      <th>  BIC:               </th> <td>   1772.</td>\n",
       "</tr>\n",
       "<tr>\n",
       "  <th>Df Model:</th>              <td>     3</td>      <th>                     </th>     <td> </td>   \n",
       "</tr>\n",
       "<tr>\n",
       "  <th>Covariance Type:</th>      <td>nonrobust</td>    <th>                     </th>     <td> </td>   \n",
       "</tr>\n",
       "</table>\n",
       "<table class=\"simpletable\">\n",
       "<tr>\n",
       "         <td></td>           <th>coef</th>     <th>std err</th>      <th>t</th>      <th>P>|t|</th>  <th>[0.025</th>    <th>0.975]</th>  \n",
       "</tr>\n",
       "<tr>\n",
       "  <th>Intercept</th>      <td>   17.1516</td> <td>    2.020</td> <td>    8.489</td> <td> 0.000</td> <td>   13.172</td> <td>   21.132</td>\n",
       "</tr>\n",
       "<tr>\n",
       "  <th>C(day)[T.Sat]</th>  <td>    3.2898</td> <td>    2.230</td> <td>    1.475</td> <td> 0.141</td> <td>   -1.103</td> <td>    7.683</td>\n",
       "</tr>\n",
       "<tr>\n",
       "  <th>C(day)[T.Sun]</th>  <td>    4.2584</td> <td>    2.259</td> <td>    1.885</td> <td> 0.061</td> <td>   -0.191</td> <td>    8.708</td>\n",
       "</tr>\n",
       "<tr>\n",
       "  <th>C(day)[T.Thur]</th> <td>    0.5312</td> <td>    2.309</td> <td>    0.230</td> <td> 0.818</td> <td>   -4.018</td> <td>    5.080</td>\n",
       "</tr>\n",
       "</table>\n",
       "<table class=\"simpletable\">\n",
       "<tr>\n",
       "  <th>Omnibus:</th>       <td>45.788</td> <th>  Durbin-Watson:     </th> <td>   1.913</td>\n",
       "</tr>\n",
       "<tr>\n",
       "  <th>Prob(Omnibus):</th> <td> 0.000</td> <th>  Jarque-Bera (JB):  </th> <td>  67.361</td>\n",
       "</tr>\n",
       "<tr>\n",
       "  <th>Skew:</th>          <td> 1.127</td> <th>  Prob(JB):          </th> <td>2.36e-15</td>\n",
       "</tr>\n",
       "<tr>\n",
       "  <th>Kurtosis:</th>      <td> 4.241</td> <th>  Cond. No.          </th> <td>    8.36</td>\n",
       "</tr>\n",
       "</table><br/><br/>Notes:<br/>[1] Standard Errors assume that the covariance matrix of the errors is correctly specified."
      ],
      "text/plain": [
       "<class 'statsmodels.iolib.summary.Summary'>\n",
       "\"\"\"\n",
       "                            OLS Regression Results                            \n",
       "==============================================================================\n",
       "Dep. Variable:             total_bill   R-squared:                       0.033\n",
       "Model:                            OLS   Adj. R-squared:                  0.021\n",
       "Method:                 Least Squares   F-statistic:                     2.767\n",
       "Date:                Mon, 08 Mar 2021   Prob (F-statistic):             0.0425\n",
       "Time:                        21:04:03   Log-Likelihood:                -875.03\n",
       "No. Observations:                 244   AIC:                             1758.\n",
       "Df Residuals:                     240   BIC:                             1772.\n",
       "Df Model:                           3                                         \n",
       "Covariance Type:            nonrobust                                         \n",
       "==================================================================================\n",
       "                     coef    std err          t      P>|t|      [0.025      0.975]\n",
       "----------------------------------------------------------------------------------\n",
       "Intercept         17.1516      2.020      8.489      0.000      13.172      21.132\n",
       "C(day)[T.Sat]      3.2898      2.230      1.475      0.141      -1.103       7.683\n",
       "C(day)[T.Sun]      4.2584      2.259      1.885      0.061      -0.191       8.708\n",
       "C(day)[T.Thur]     0.5312      2.309      0.230      0.818      -4.018       5.080\n",
       "==============================================================================\n",
       "Omnibus:                       45.788   Durbin-Watson:                   1.913\n",
       "Prob(Omnibus):                  0.000   Jarque-Bera (JB):               67.361\n",
       "Skew:                           1.127   Prob(JB):                     2.36e-15\n",
       "Kurtosis:                       4.241   Cond. No.                         8.36\n",
       "==============================================================================\n",
       "\n",
       "Notes:\n",
       "[1] Standard Errors assume that the covariance matrix of the errors is correctly specified.\n",
       "\"\"\""
      ]
     },
     "execution_count": 42,
     "metadata": {},
     "output_type": "execute_result"
    }
   ],
   "source": [
    "model1 = ols('total_bill ~ C(day)', data=tips).fit()\n",
    "model1.summary()"
   ]
  },
  {
   "cell_type": "code",
   "execution_count": 43,
   "metadata": {},
   "outputs": [
    {
     "data": {
      "text/html": [
       "<table class=\"simpletable\">\n",
       "<caption>OLS Regression Results</caption>\n",
       "<tr>\n",
       "  <th>Dep. Variable:</th>       <td>total_bill</td>    <th>  R-squared:         </th> <td>   0.034</td>\n",
       "</tr>\n",
       "<tr>\n",
       "  <th>Model:</th>                   <td>OLS</td>       <th>  Adj. R-squared:    </th> <td>   0.030</td>\n",
       "</tr>\n",
       "<tr>\n",
       "  <th>Method:</th>             <td>Least Squares</td>  <th>  F-statistic:       </th> <td>   8.396</td>\n",
       "</tr>\n",
       "<tr>\n",
       "  <th>Date:</th>             <td>Mon, 08 Mar 2021</td> <th>  Prob (F-statistic):</th>  <td>0.00410</td>\n",
       "</tr>\n",
       "<tr>\n",
       "  <th>Time:</th>                 <td>21:04:04</td>     <th>  Log-Likelihood:    </th> <td> -875.02</td>\n",
       "</tr>\n",
       "<tr>\n",
       "  <th>No. Observations:</th>      <td>   244</td>      <th>  AIC:               </th> <td>   1754.</td>\n",
       "</tr>\n",
       "<tr>\n",
       "  <th>Df Residuals:</th>          <td>   242</td>      <th>  BIC:               </th> <td>   1761.</td>\n",
       "</tr>\n",
       "<tr>\n",
       "  <th>Df Model:</th>              <td>     1</td>      <th>                     </th>     <td> </td>   \n",
       "</tr>\n",
       "<tr>\n",
       "  <th>Covariance Type:</th>      <td>nonrobust</td>    <th>                     </th>     <td> </td>   \n",
       "</tr>\n",
       "</table>\n",
       "<table class=\"simpletable\">\n",
       "<tr>\n",
       "          <td></td>            <th>coef</th>     <th>std err</th>      <th>t</th>      <th>P>|t|</th>  <th>[0.025</th>    <th>0.975]</th>  \n",
       "</tr>\n",
       "<tr>\n",
       "  <th>Intercept</th>        <td>   20.7972</td> <td>    0.661</td> <td>   31.460</td> <td> 0.000</td> <td>   19.495</td> <td>   22.099</td>\n",
       "</tr>\n",
       "<tr>\n",
       "  <th>C(time)[T.Lunch]</th> <td>   -3.6285</td> <td>    1.252</td> <td>   -2.898</td> <td> 0.004</td> <td>   -6.095</td> <td>   -1.162</td>\n",
       "</tr>\n",
       "</table>\n",
       "<table class=\"simpletable\">\n",
       "<tr>\n",
       "  <th>Omnibus:</th>       <td>44.811</td> <th>  Durbin-Watson:     </th> <td>   1.922</td>\n",
       "</tr>\n",
       "<tr>\n",
       "  <th>Prob(Omnibus):</th> <td> 0.000</td> <th>  Jarque-Bera (JB):  </th> <td>  65.308</td>\n",
       "</tr>\n",
       "<tr>\n",
       "  <th>Skew:</th>          <td> 1.111</td> <th>  Prob(JB):          </th> <td>6.58e-15</td>\n",
       "</tr>\n",
       "<tr>\n",
       "  <th>Kurtosis:</th>      <td> 4.218</td> <th>  Cond. No.          </th> <td>    2.44</td>\n",
       "</tr>\n",
       "</table><br/><br/>Notes:<br/>[1] Standard Errors assume that the covariance matrix of the errors is correctly specified."
      ],
      "text/plain": [
       "<class 'statsmodels.iolib.summary.Summary'>\n",
       "\"\"\"\n",
       "                            OLS Regression Results                            \n",
       "==============================================================================\n",
       "Dep. Variable:             total_bill   R-squared:                       0.034\n",
       "Model:                            OLS   Adj. R-squared:                  0.030\n",
       "Method:                 Least Squares   F-statistic:                     8.396\n",
       "Date:                Mon, 08 Mar 2021   Prob (F-statistic):            0.00410\n",
       "Time:                        21:04:04   Log-Likelihood:                -875.02\n",
       "No. Observations:                 244   AIC:                             1754.\n",
       "Df Residuals:                     242   BIC:                             1761.\n",
       "Df Model:                           1                                         \n",
       "Covariance Type:            nonrobust                                         \n",
       "====================================================================================\n",
       "                       coef    std err          t      P>|t|      [0.025      0.975]\n",
       "------------------------------------------------------------------------------------\n",
       "Intercept           20.7972      0.661     31.460      0.000      19.495      22.099\n",
       "C(time)[T.Lunch]    -3.6285      1.252     -2.898      0.004      -6.095      -1.162\n",
       "==============================================================================\n",
       "Omnibus:                       44.811   Durbin-Watson:                   1.922\n",
       "Prob(Omnibus):                  0.000   Jarque-Bera (JB):               65.308\n",
       "Skew:                           1.111   Prob(JB):                     6.58e-15\n",
       "Kurtosis:                       4.218   Cond. No.                         2.44\n",
       "==============================================================================\n",
       "\n",
       "Notes:\n",
       "[1] Standard Errors assume that the covariance matrix of the errors is correctly specified.\n",
       "\"\"\""
      ]
     },
     "execution_count": 43,
     "metadata": {},
     "output_type": "execute_result"
    }
   ],
   "source": [
    "model2 = ols('total_bill ~ C(time)', data=tips).fit()\n",
    "model2.summary()"
   ]
  },
  {
   "cell_type": "code",
   "execution_count": 44,
   "metadata": {},
   "outputs": [
    {
     "data": {
      "text/html": [
       "<table class=\"simpletable\">\n",
       "<caption>OLS Regression Results</caption>\n",
       "<tr>\n",
       "  <th>Dep. Variable:</th>       <td>total_bill</td>    <th>  R-squared:         </th> <td>   0.043</td>\n",
       "</tr>\n",
       "<tr>\n",
       "  <th>Model:</th>                   <td>OLS</td>       <th>  Adj. R-squared:    </th> <td>   0.027</td>\n",
       "</tr>\n",
       "<tr>\n",
       "  <th>Method:</th>             <td>Least Squares</td>  <th>  F-statistic:       </th> <td>   2.672</td>\n",
       "</tr>\n",
       "<tr>\n",
       "  <th>Date:</th>             <td>Mon, 08 Mar 2021</td> <th>  Prob (F-statistic):</th>  <td>0.0328</td> \n",
       "</tr>\n",
       "<tr>\n",
       "  <th>Time:</th>                 <td>21:04:05</td>     <th>  Log-Likelihood:    </th> <td> -873.84</td>\n",
       "</tr>\n",
       "<tr>\n",
       "  <th>No. Observations:</th>      <td>   244</td>      <th>  AIC:               </th> <td>   1758.</td>\n",
       "</tr>\n",
       "<tr>\n",
       "  <th>Df Residuals:</th>          <td>   239</td>      <th>  BIC:               </th> <td>   1775.</td>\n",
       "</tr>\n",
       "<tr>\n",
       "  <th>Df Model:</th>              <td>     4</td>      <th>                     </th>     <td> </td>   \n",
       "</tr>\n",
       "<tr>\n",
       "  <th>Covariance Type:</th>      <td>nonrobust</td>    <th>                     </th>     <td> </td>   \n",
       "</tr>\n",
       "</table>\n",
       "<table class=\"simpletable\">\n",
       "<tr>\n",
       "          <td></td>            <th>coef</th>     <th>std err</th>      <th>t</th>      <th>P>|t|</th>  <th>[0.025</th>    <th>0.975]</th>  \n",
       "</tr>\n",
       "<tr>\n",
       "  <th>Intercept</th>        <td>   19.2809</td> <td>    2.449</td> <td>    7.874</td> <td> 0.000</td> <td>   14.457</td> <td>   24.105</td>\n",
       "</tr>\n",
       "<tr>\n",
       "  <th>C(day)[T.Sat]</th>    <td>    1.1605</td> <td>    2.624</td> <td>    0.442</td> <td> 0.659</td> <td>   -4.008</td> <td>    6.329</td>\n",
       "</tr>\n",
       "<tr>\n",
       "  <th>C(day)[T.Sun]</th>    <td>    2.1291</td> <td>    2.648</td> <td>    0.804</td> <td> 0.422</td> <td>   -3.087</td> <td>    7.345</td>\n",
       "</tr>\n",
       "<tr>\n",
       "  <th>C(day)[T.Thur]</th>   <td>    4.0882</td> <td>    3.272</td> <td>    1.249</td> <td> 0.213</td> <td>   -2.358</td> <td>   10.535</td>\n",
       "</tr>\n",
       "<tr>\n",
       "  <th>C(time)[T.Lunch]</th> <td>   -5.7796</td> <td>    3.778</td> <td>   -1.530</td> <td> 0.127</td> <td>  -13.221</td> <td>    1.662</td>\n",
       "</tr>\n",
       "</table>\n",
       "<table class=\"simpletable\">\n",
       "<tr>\n",
       "  <th>Omnibus:</th>       <td>45.480</td> <th>  Durbin-Watson:     </th> <td>   1.929</td>\n",
       "</tr>\n",
       "<tr>\n",
       "  <th>Prob(Omnibus):</th> <td> 0.000</td> <th>  Jarque-Bera (JB):  </th> <td>  67.039</td>\n",
       "</tr>\n",
       "<tr>\n",
       "  <th>Skew:</th>          <td> 1.116</td> <th>  Prob(JB):          </th> <td>2.77e-15</td>\n",
       "</tr>\n",
       "<tr>\n",
       "  <th>Kurtosis:</th>      <td> 4.269</td> <th>  Cond. No.          </th> <td>    10.9</td>\n",
       "</tr>\n",
       "</table><br/><br/>Notes:<br/>[1] Standard Errors assume that the covariance matrix of the errors is correctly specified."
      ],
      "text/plain": [
       "<class 'statsmodels.iolib.summary.Summary'>\n",
       "\"\"\"\n",
       "                            OLS Regression Results                            \n",
       "==============================================================================\n",
       "Dep. Variable:             total_bill   R-squared:                       0.043\n",
       "Model:                            OLS   Adj. R-squared:                  0.027\n",
       "Method:                 Least Squares   F-statistic:                     2.672\n",
       "Date:                Mon, 08 Mar 2021   Prob (F-statistic):             0.0328\n",
       "Time:                        21:04:05   Log-Likelihood:                -873.84\n",
       "No. Observations:                 244   AIC:                             1758.\n",
       "Df Residuals:                     239   BIC:                             1775.\n",
       "Df Model:                           4                                         \n",
       "Covariance Type:            nonrobust                                         \n",
       "====================================================================================\n",
       "                       coef    std err          t      P>|t|      [0.025      0.975]\n",
       "------------------------------------------------------------------------------------\n",
       "Intercept           19.2809      2.449      7.874      0.000      14.457      24.105\n",
       "C(day)[T.Sat]        1.1605      2.624      0.442      0.659      -4.008       6.329\n",
       "C(day)[T.Sun]        2.1291      2.648      0.804      0.422      -3.087       7.345\n",
       "C(day)[T.Thur]       4.0882      3.272      1.249      0.213      -2.358      10.535\n",
       "C(time)[T.Lunch]    -5.7796      3.778     -1.530      0.127     -13.221       1.662\n",
       "==============================================================================\n",
       "Omnibus:                       45.480   Durbin-Watson:                   1.929\n",
       "Prob(Omnibus):                  0.000   Jarque-Bera (JB):               67.039\n",
       "Skew:                           1.116   Prob(JB):                     2.77e-15\n",
       "Kurtosis:                       4.269   Cond. No.                         10.9\n",
       "==============================================================================\n",
       "\n",
       "Notes:\n",
       "[1] Standard Errors assume that the covariance matrix of the errors is correctly specified.\n",
       "\"\"\""
      ]
     },
     "execution_count": 44,
     "metadata": {},
     "output_type": "execute_result"
    }
   ],
   "source": [
    "model_3 = ols('total_bill ~ C(day) + C(time)', data=tips).fit()\n",
    "model_3.summary()"
   ]
  },
  {
   "cell_type": "code",
   "execution_count": 45,
   "metadata": {
    "scrolled": true
   },
   "outputs": [
    {
     "data": {
      "text/html": [
       "<table class=\"simpletable\">\n",
       "<caption>OLS Regression Results</caption>\n",
       "<tr>\n",
       "  <th>Dep. Variable:</th>       <td>total_bill</td>    <th>  R-squared:         </th> <td>   0.044</td>\n",
       "</tr>\n",
       "<tr>\n",
       "  <th>Model:</th>                   <td>OLS</td>       <th>  Adj. R-squared:    </th> <td>   0.024</td>\n",
       "</tr>\n",
       "<tr>\n",
       "  <th>Method:</th>             <td>Least Squares</td>  <th>  F-statistic:       </th> <td>   2.200</td>\n",
       "</tr>\n",
       "<tr>\n",
       "  <th>Date:</th>             <td>Mon, 08 Mar 2021</td> <th>  Prob (F-statistic):</th>  <td>0.0551</td> \n",
       "</tr>\n",
       "<tr>\n",
       "  <th>Time:</th>                 <td>21:04:05</td>     <th>  Log-Likelihood:    </th> <td> -873.67</td>\n",
       "</tr>\n",
       "<tr>\n",
       "  <th>No. Observations:</th>      <td>   244</td>      <th>  AIC:               </th> <td>   1759.</td>\n",
       "</tr>\n",
       "<tr>\n",
       "  <th>Df Residuals:</th>          <td>   238</td>      <th>  BIC:               </th> <td>   1780.</td>\n",
       "</tr>\n",
       "<tr>\n",
       "  <th>Df Model:</th>              <td>     5</td>      <th>                     </th>     <td> </td>   \n",
       "</tr>\n",
       "<tr>\n",
       "  <th>Covariance Type:</th>      <td>nonrobust</td>    <th>                     </th>     <td> </td>   \n",
       "</tr>\n",
       "</table>\n",
       "<table class=\"simpletable\">\n",
       "<tr>\n",
       "                 <td></td>                    <th>coef</th>     <th>std err</th>      <th>t</th>      <th>P>|t|</th>  <th>[0.025</th>    <th>0.975]</th>  \n",
       "</tr>\n",
       "<tr>\n",
       "  <th>Intercept</th>                       <td>   19.6633</td> <td>    2.539</td> <td>    7.745</td> <td> 0.000</td> <td>   14.662</td> <td>   24.665</td>\n",
       "</tr>\n",
       "<tr>\n",
       "  <th>C(day)[T.Sat]</th>                   <td>    0.7780</td> <td>    2.708</td> <td>    0.287</td> <td> 0.774</td> <td>   -4.557</td> <td>    6.113</td>\n",
       "</tr>\n",
       "<tr>\n",
       "  <th>C(day)[T.Sun]</th>                   <td>    1.7467</td> <td>    2.732</td> <td>    0.639</td> <td> 0.523</td> <td>   -3.635</td> <td>    7.128</td>\n",
       "</tr>\n",
       "<tr>\n",
       "  <th>C(day)[T.Thur]</th>                  <td>   -0.8833</td> <td>    9.154</td> <td>   -0.097</td> <td> 0.923</td> <td>  -18.916</td> <td>   17.149</td>\n",
       "</tr>\n",
       "<tr>\n",
       "  <th>C(time)[T.Lunch]</th>                <td>   -6.8176</td> <td>    4.183</td> <td>   -1.630</td> <td> 0.104</td> <td>  -15.057</td> <td>    1.422</td>\n",
       "</tr>\n",
       "<tr>\n",
       "  <th>C(day)[T.Sat]:C(time)[T.Lunch]</th>  <td>         0</td> <td>        0</td> <td>      nan</td> <td>   nan</td> <td>        0</td> <td>        0</td>\n",
       "</tr>\n",
       "<tr>\n",
       "  <th>C(day)[T.Sun]:C(time)[T.Lunch]</th>  <td>         0</td> <td>        0</td> <td>      nan</td> <td>   nan</td> <td>        0</td> <td>        0</td>\n",
       "</tr>\n",
       "<tr>\n",
       "  <th>C(day)[T.Thur]:C(time)[T.Lunch]</th> <td>    5.7024</td> <td>    9.803</td> <td>    0.582</td> <td> 0.561</td> <td>  -13.610</td> <td>   25.015</td>\n",
       "</tr>\n",
       "</table>\n",
       "<table class=\"simpletable\">\n",
       "<tr>\n",
       "  <th>Omnibus:</th>       <td>45.019</td> <th>  Durbin-Watson:     </th> <td>   1.932</td>\n",
       "</tr>\n",
       "<tr>\n",
       "  <th>Prob(Omnibus):</th> <td> 0.000</td> <th>  Jarque-Bera (JB):  </th> <td>  66.138</td>\n",
       "</tr>\n",
       "<tr>\n",
       "  <th>Skew:</th>          <td> 1.107</td> <th>  Prob(JB):          </th> <td>4.35e-15</td>\n",
       "</tr>\n",
       "<tr>\n",
       "  <th>Kurtosis:</th>      <td> 4.265</td> <th>  Cond. No.          </th> <td>     inf</td>\n",
       "</tr>\n",
       "</table><br/><br/>Notes:<br/>[1] Standard Errors assume that the covariance matrix of the errors is correctly specified.<br/>[2] The smallest eigenvalue is      0. This might indicate that there are<br/>strong multicollinearity problems or that the design matrix is singular."
      ],
      "text/plain": [
       "<class 'statsmodels.iolib.summary.Summary'>\n",
       "\"\"\"\n",
       "                            OLS Regression Results                            \n",
       "==============================================================================\n",
       "Dep. Variable:             total_bill   R-squared:                       0.044\n",
       "Model:                            OLS   Adj. R-squared:                  0.024\n",
       "Method:                 Least Squares   F-statistic:                     2.200\n",
       "Date:                Mon, 08 Mar 2021   Prob (F-statistic):             0.0551\n",
       "Time:                        21:04:05   Log-Likelihood:                -873.67\n",
       "No. Observations:                 244   AIC:                             1759.\n",
       "Df Residuals:                     238   BIC:                             1780.\n",
       "Df Model:                           5                                         \n",
       "Covariance Type:            nonrobust                                         \n",
       "===================================================================================================\n",
       "                                      coef    std err          t      P>|t|      [0.025      0.975]\n",
       "---------------------------------------------------------------------------------------------------\n",
       "Intercept                          19.6633      2.539      7.745      0.000      14.662      24.665\n",
       "C(day)[T.Sat]                       0.7780      2.708      0.287      0.774      -4.557       6.113\n",
       "C(day)[T.Sun]                       1.7467      2.732      0.639      0.523      -3.635       7.128\n",
       "C(day)[T.Thur]                     -0.8833      9.154     -0.097      0.923     -18.916      17.149\n",
       "C(time)[T.Lunch]                   -6.8176      4.183     -1.630      0.104     -15.057       1.422\n",
       "C(day)[T.Sat]:C(time)[T.Lunch]           0          0        nan        nan           0           0\n",
       "C(day)[T.Sun]:C(time)[T.Lunch]           0          0        nan        nan           0           0\n",
       "C(day)[T.Thur]:C(time)[T.Lunch]     5.7024      9.803      0.582      0.561     -13.610      25.015\n",
       "==============================================================================\n",
       "Omnibus:                       45.019   Durbin-Watson:                   1.932\n",
       "Prob(Omnibus):                  0.000   Jarque-Bera (JB):               66.138\n",
       "Skew:                           1.107   Prob(JB):                     4.35e-15\n",
       "Kurtosis:                       4.265   Cond. No.                          inf\n",
       "==============================================================================\n",
       "\n",
       "Notes:\n",
       "[1] Standard Errors assume that the covariance matrix of the errors is correctly specified.\n",
       "[2] The smallest eigenvalue is      0. This might indicate that there are\n",
       "strong multicollinearity problems or that the design matrix is singular.\n",
       "\"\"\""
      ]
     },
     "execution_count": 45,
     "metadata": {},
     "output_type": "execute_result"
    }
   ],
   "source": [
    "model_4 = ols('total_bill ~ C(day) * C(time)', data=tips).fit()\n",
    "model_4.summary()"
   ]
  },
  {
   "cell_type": "code",
   "execution_count": 46,
   "metadata": {
    "scrolled": true
   },
   "outputs": [
    {
     "data": {
      "text/html": [
       "<div>\n",
       "<style scoped>\n",
       "    .dataframe tbody tr th:only-of-type {\n",
       "        vertical-align: middle;\n",
       "    }\n",
       "\n",
       "    .dataframe tbody tr th {\n",
       "        vertical-align: top;\n",
       "    }\n",
       "\n",
       "    .dataframe thead th {\n",
       "        text-align: right;\n",
       "    }\n",
       "</style>\n",
       "<table border=\"1\" class=\"dataframe\">\n",
       "  <thead>\n",
       "    <tr style=\"text-align: right;\">\n",
       "      <th></th>\n",
       "      <th>df</th>\n",
       "      <th>sum_sq</th>\n",
       "      <th>mean_sq</th>\n",
       "      <th>F</th>\n",
       "      <th>PR(&gt;F)</th>\n",
       "    </tr>\n",
       "  </thead>\n",
       "  <tbody>\n",
       "    <tr>\n",
       "      <th>C(day)</th>\n",
       "      <td>3.0</td>\n",
       "      <td>643.941362</td>\n",
       "      <td>214.647121</td>\n",
       "      <td>2.78294</td>\n",
       "      <td>0.041613</td>\n",
       "    </tr>\n",
       "    <tr>\n",
       "      <th>C(time)</th>\n",
       "      <td>1.0</td>\n",
       "      <td>180.545023</td>\n",
       "      <td>180.545023</td>\n",
       "      <td>2.34080</td>\n",
       "      <td>0.127347</td>\n",
       "    </tr>\n",
       "    <tr>\n",
       "      <th>Residual</th>\n",
       "      <td>239.0</td>\n",
       "      <td>18433.977698</td>\n",
       "      <td>77.129614</td>\n",
       "      <td>NaN</td>\n",
       "      <td>NaN</td>\n",
       "    </tr>\n",
       "  </tbody>\n",
       "</table>\n",
       "</div>"
      ],
      "text/plain": [
       "             df        sum_sq     mean_sq        F    PR(>F)\n",
       "C(day)      3.0    643.941362  214.647121  2.78294  0.041613\n",
       "C(time)     1.0    180.545023  180.545023  2.34080  0.127347\n",
       "Residual  239.0  18433.977698   77.129614      NaN       NaN"
      ]
     },
     "execution_count": 46,
     "metadata": {},
     "output_type": "execute_result"
    }
   ],
   "source": [
    "sm.stats.anova_lm(model_3)"
   ]
  },
  {
   "cell_type": "markdown",
   "metadata": {},
   "source": [
    "* For Day, p-value is 0.04. Hence, Reject the H01. Signifcant Releationship.\n",
    "* For Time, p-value is 0.12. Hence, Do Not Reject the H02. No Significant Relationship."
   ]
  },
  {
   "cell_type": "code",
   "execution_count": 47,
   "metadata": {},
   "outputs": [
    {
     "data": {
      "text/html": [
       "<div>\n",
       "<style scoped>\n",
       "    .dataframe tbody tr th:only-of-type {\n",
       "        vertical-align: middle;\n",
       "    }\n",
       "\n",
       "    .dataframe tbody tr th {\n",
       "        vertical-align: top;\n",
       "    }\n",
       "\n",
       "    .dataframe thead th {\n",
       "        text-align: right;\n",
       "    }\n",
       "</style>\n",
       "<table border=\"1\" class=\"dataframe\">\n",
       "  <thead>\n",
       "    <tr style=\"text-align: right;\">\n",
       "      <th></th>\n",
       "      <th>df</th>\n",
       "      <th>sum_sq</th>\n",
       "      <th>mean_sq</th>\n",
       "      <th>F</th>\n",
       "      <th>PR(&gt;F)</th>\n",
       "    </tr>\n",
       "  </thead>\n",
       "  <tbody>\n",
       "    <tr>\n",
       "      <th>C(day)</th>\n",
       "      <td>3.0</td>\n",
       "      <td>643.941362</td>\n",
       "      <td>214.647121</td>\n",
       "      <td>2.775236</td>\n",
       "      <td>0.042045</td>\n",
       "    </tr>\n",
       "    <tr>\n",
       "      <th>C(time)</th>\n",
       "      <td>1.0</td>\n",
       "      <td>180.545023</td>\n",
       "      <td>180.545023</td>\n",
       "      <td>2.334320</td>\n",
       "      <td>0.127878</td>\n",
       "    </tr>\n",
       "    <tr>\n",
       "      <th>C(day):C(time)</th>\n",
       "      <td>3.0</td>\n",
       "      <td>189.615042</td>\n",
       "      <td>63.205014</td>\n",
       "      <td>0.817196</td>\n",
       "      <td>0.485467</td>\n",
       "    </tr>\n",
       "    <tr>\n",
       "      <th>Residual</th>\n",
       "      <td>238.0</td>\n",
       "      <td>18407.808794</td>\n",
       "      <td>77.343734</td>\n",
       "      <td>NaN</td>\n",
       "      <td>NaN</td>\n",
       "    </tr>\n",
       "  </tbody>\n",
       "</table>\n",
       "</div>"
      ],
      "text/plain": [
       "                   df        sum_sq     mean_sq         F    PR(>F)\n",
       "C(day)            3.0    643.941362  214.647121  2.775236  0.042045\n",
       "C(time)           1.0    180.545023  180.545023  2.334320  0.127878\n",
       "C(day):C(time)    3.0    189.615042   63.205014  0.817196  0.485467\n",
       "Residual        238.0  18407.808794   77.343734       NaN       NaN"
      ]
     },
     "execution_count": 47,
     "metadata": {},
     "output_type": "execute_result"
    }
   ],
   "source": [
    "sm.stats.anova_lm(model_4)"
   ]
  },
  {
   "cell_type": "markdown",
   "metadata": {},
   "source": [
    "* For Day, p-value is 0.04. Hence, Reject the H01. Signifcant Releationship.\n",
    "* For Time, p-value is 0.12. Hence, Do Not Reject the H02. No Significant Relationship.\n",
    "* For Day & Time Interaction, p-value is 0.48. Hence, Reject the H03. Significant Relationship in Interaction."
   ]
  },
  {
   "cell_type": "markdown",
   "metadata": {},
   "source": [
    "## 7. Chi - Square Test"
   ]
  },
  {
   "cell_type": "code",
   "execution_count": 48,
   "metadata": {},
   "outputs": [
    {
     "data": {
      "text/html": [
       "<div>\n",
       "<style scoped>\n",
       "    .dataframe tbody tr th:only-of-type {\n",
       "        vertical-align: middle;\n",
       "    }\n",
       "\n",
       "    .dataframe tbody tr th {\n",
       "        vertical-align: top;\n",
       "    }\n",
       "\n",
       "    .dataframe thead th {\n",
       "        text-align: right;\n",
       "    }\n",
       "</style>\n",
       "<table border=\"1\" class=\"dataframe\">\n",
       "  <thead>\n",
       "    <tr style=\"text-align: right;\">\n",
       "      <th>smoker</th>\n",
       "      <th>No</th>\n",
       "      <th>Yes</th>\n",
       "    </tr>\n",
       "    <tr>\n",
       "      <th>sex</th>\n",
       "      <th></th>\n",
       "      <th></th>\n",
       "    </tr>\n",
       "  </thead>\n",
       "  <tbody>\n",
       "    <tr>\n",
       "      <th>Female</th>\n",
       "      <td>54</td>\n",
       "      <td>33</td>\n",
       "    </tr>\n",
       "    <tr>\n",
       "      <th>Male</th>\n",
       "      <td>97</td>\n",
       "      <td>60</td>\n",
       "    </tr>\n",
       "  </tbody>\n",
       "</table>\n",
       "</div>"
      ],
      "text/plain": [
       "smoker  No  Yes\n",
       "sex            \n",
       "Female  54   33\n",
       "Male    97   60"
      ]
     },
     "execution_count": 48,
     "metadata": {},
     "output_type": "execute_result"
    }
   ],
   "source": [
    "smoker_gender = pd.crosstab(tips[\"sex\"], tips[\"smoker\"])\n",
    "smoker_gender"
   ]
  },
  {
   "cell_type": "code",
   "execution_count": 49,
   "metadata": {},
   "outputs": [],
   "source": [
    "chiSquare, p_value, d_o_f, expected_values = chi2_contingency(smoker_gender.values)"
   ]
  },
  {
   "cell_type": "code",
   "execution_count": 50,
   "metadata": {},
   "outputs": [
    {
     "data": {
      "text/plain": [
       "0.008763290531773594"
      ]
     },
     "execution_count": 50,
     "metadata": {},
     "output_type": "execute_result"
    }
   ],
   "source": [
    "chiSquare   # chiSquare value"
   ]
  },
  {
   "cell_type": "code",
   "execution_count": 51,
   "metadata": {},
   "outputs": [
    {
     "data": {
      "text/plain": [
       "0.925417020494423"
      ]
     },
     "execution_count": 51,
     "metadata": {},
     "output_type": "execute_result"
    }
   ],
   "source": [
    "p_value   # p_value"
   ]
  },
  {
   "cell_type": "markdown",
   "metadata": {},
   "source": [
    "* p-value 0.92 is Not < 0.05. Hence, Do Not Reject H0. No Significant Relationship between Gender and Smoker."
   ]
  },
  {
   "cell_type": "code",
   "execution_count": 52,
   "metadata": {},
   "outputs": [
    {
     "data": {
      "text/plain": [
       "1"
      ]
     },
     "execution_count": 52,
     "metadata": {},
     "output_type": "execute_result"
    }
   ],
   "source": [
    "d_o_f    # Degree of Freedom"
   ]
  },
  {
   "cell_type": "code",
   "execution_count": 54,
   "metadata": {},
   "outputs": [
    {
     "data": {
      "text/plain": [
       "array([[53.84016393, 33.15983607],\n",
       "       [97.15983607, 59.84016393]])"
      ]
     },
     "execution_count": 54,
     "metadata": {},
     "output_type": "execute_result"
    }
   ],
   "source": [
    "expected_values    # Expected_values"
   ]
  },
  {
   "cell_type": "code",
   "execution_count": null,
   "metadata": {},
   "outputs": [],
   "source": []
  }
 ],
 "metadata": {
  "kernelspec": {
   "display_name": "Python 3",
   "language": "python",
   "name": "python3"
  },
  "language_info": {
   "codemirror_mode": {
    "name": "ipython",
    "version": 3
   },
   "file_extension": ".py",
   "mimetype": "text/x-python",
   "name": "python",
   "nbconvert_exporter": "python",
   "pygments_lexer": "ipython3",
   "version": "3.8.5"
  }
 },
 "nbformat": 4,
 "nbformat_minor": 4
}
